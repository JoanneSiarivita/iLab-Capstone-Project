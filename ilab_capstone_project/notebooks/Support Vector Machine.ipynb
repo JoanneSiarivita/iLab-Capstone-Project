{
 "cells": [
  {
   "cell_type": "code",
   "execution_count": 1,
   "id": "0f7c2642-c1b9-476c-b438-64d81d922c26",
   "metadata": {
    "tags": []
   },
   "outputs": [],
   "source": [
    "%load_ext autoreload\n",
    "%autoreload 2"
   ]
  },
  {
   "cell_type": "code",
   "execution_count": 2,
   "id": "b1731a57-b83a-488f-b0c2-9f21c18f8d92",
   "metadata": {
    "tags": []
   },
   "outputs": [],
   "source": [
    "#Import packages\n",
    "import pandas as pd\n",
    "import numpy as np\n",
    "from joblib import dump"
   ]
  },
  {
   "cell_type": "code",
   "execution_count": 3,
   "id": "d95a0cde-786a-4e12-9ed1-c3cd585f9fa1",
   "metadata": {
    "tags": []
   },
   "outputs": [],
   "source": [
    "#Load dataset into a dataframe\n",
    "data = pd.read_csv('../data/raw/GlobalDietaryDatabase_V2.csv')"
   ]
  },
  {
   "cell_type": "code",
   "execution_count": 4,
   "id": "0091be11-e93e-4636-b74f-3edf7f92020d",
   "metadata": {
    "tags": []
   },
   "outputs": [],
   "source": [
    "#Make a copy of the dataframe(df) to be cleaned\n",
    "df_cleaned = data.copy()"
   ]
  },
  {
   "cell_type": "code",
   "execution_count": 5,
   "id": "c6a3cc39-2b3e-4ce2-89ed-085bf3149638",
   "metadata": {},
   "outputs": [],
   "source": [
    "# Define features and target variable\n",
    "features = df_cleaned.drop(['Unnamed: 0', 'Entity', 'superregion2', 'iso3', 'Year', 'Continent', 'Unit'], axis=1)\n",
    "target = df_cleaned['Diabetes prevalence (% of population ages 20 to 79)']"
   ]
  },
  {
   "cell_type": "code",
   "execution_count": 6,
   "id": "9c2449ee-1558-4238-b127-a7f7dac4f1c2",
   "metadata": {},
   "outputs": [],
   "source": [
    "from sklearn.model_selection import train_test_split\n",
    "\n",
    "# Split data into train and test sets\n",
    "X_train, X_test, y_train, y_test = train_test_split(features, target, test_size=0.2, random_state=42)"
   ]
  },
  {
   "cell_type": "code",
   "execution_count": 3,
   "id": "0e002db5-2a60-43bc-aef2-02db3f9c1471",
   "metadata": {},
   "outputs": [],
   "source": [
    "from sklearn.svm import SVR\n",
    "from sklearn.preprocessing import StandardScaler\n",
    "from sklearn.pipeline import make_pipeline\n",
    "\n",
    "# Define the SVR model with a pipeline for scaling\n",
    "svr_model = make_pipeline(StandardScaler(), SVR(C=1.0, epsilon=0.2))"
   ]
  },
  {
   "cell_type": "code",
   "execution_count": 4,
   "id": "e7f4f368-176c-4fd0-b4c0-0f761572b1e6",
   "metadata": {},
   "outputs": [
    {
     "ename": "NameError",
     "evalue": "name 'X_train' is not defined",
     "output_type": "error",
     "traceback": [
      "\u001b[1;31m---------------------------------------------------------------------------\u001b[0m",
      "\u001b[1;31mNameError\u001b[0m                                 Traceback (most recent call last)",
      "Cell \u001b[1;32mIn[4], line 2\u001b[0m\n\u001b[0;32m      1\u001b[0m \u001b[38;5;66;03m# Train the model\u001b[39;00m\n\u001b[1;32m----> 2\u001b[0m svr_model\u001b[38;5;241m.\u001b[39mfit(\u001b[43mX_train\u001b[49m, y_train)\n",
      "\u001b[1;31mNameError\u001b[0m: name 'X_train' is not defined"
     ]
    }
   ],
   "source": [
    "# Train the model\n",
    "svr_model.fit(X_train, y_train)"
   ]
  },
  {
   "cell_type": "code",
   "execution_count": 10,
   "id": "a813293a-a71a-49db-ab57-8d3ec67296c7",
   "metadata": {},
   "outputs": [],
   "source": [
    "# Predict on the test set\n",
    "y_pred = svr_model.predict(X_test)"
   ]
  },
  {
   "cell_type": "code",
   "execution_count": 11,
   "id": "75271543-b86d-4bf3-803e-f62592a9cdb1",
   "metadata": {},
   "outputs": [
    {
     "name": "stdout",
     "output_type": "stream",
     "text": [
      "RMSE: 4.0600892072570955\n",
      "MAE: 2.6562771432870864\n"
     ]
    }
   ],
   "source": [
    "from sklearn.metrics import mean_squared_error, mean_absolute_error\n",
    "\n",
    "# Calculate RMSE\n",
    "rmse = mean_squared_error(y_test, y_pred, squared=False)\n",
    "print(\"RMSE:\", rmse)\n",
    "\n",
    "# Calculate MAE\n",
    "mae = mean_absolute_error(y_test, y_pred)\n",
    "print(\"MAE:\", mae)"
   ]
  },
  {
   "cell_type": "markdown",
   "id": "1e1edc09-01c4-418b-837d-a5a5ff03559c",
   "metadata": {},
   "source": [
    "RMSE Comparison:\n",
    "   - Baseline RMSE: 4.411347697591873\n",
    "   - XGBoost RMSE: 4.049114947585293\n",
    "   - Random Forest RMSE: 0.304562424258593\n",
    "   - SVM RMSE: 4.0600892072570955\n",
    "\n",
    "The SVM model's RMSE falls between the baseline and XGBoost scores, but it's higher than that of the Random Forest model. This indicates that the SVM model's predictions are closer to the actual values than the baseline but not as accurate as the Random Forest model.\n",
    "\n",
    "MAE Comparison:\n",
    "   - Baseline MAE: 3.3704969836253955\n",
    "   - XGBoost MAE: Not provided\n",
    "   - Random Forest MAE: 0.16713513513513667\n",
    "   - SVM MAE: 2.6562771432870864\n",
    "\n",
    "The SVM model performs better than the baseline but is not as accurate as the Random Forest model in terms of both RMSE and MAE. It provides an alternative approach to modeling the diabetes prevalence but doesn't outperform the Random Forest model in this specific task."
   ]
  },
  {
   "cell_type": "code",
   "execution_count": null,
   "id": "10a3c0e0-da00-40a8-a6a8-2ac741d563cb",
   "metadata": {},
   "outputs": [],
   "source": []
  }
 ],
 "metadata": {
  "kernelspec": {
   "display_name": "Python 3 (ipykernel)",
   "language": "python",
   "name": "python3"
  },
  "language_info": {
   "codemirror_mode": {
    "name": "ipython",
    "version": 3
   },
   "file_extension": ".py",
   "mimetype": "text/x-python",
   "name": "python",
   "nbconvert_exporter": "python",
   "pygments_lexer": "ipython3",
   "version": "3.9.13"
  }
 },
 "nbformat": 4,
 "nbformat_minor": 5
}
