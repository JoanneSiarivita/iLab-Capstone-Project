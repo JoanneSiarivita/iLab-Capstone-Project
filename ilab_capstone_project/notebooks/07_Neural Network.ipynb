{
 "cells": [
  {
   "cell_type": "code",
   "execution_count": 1,
   "id": "9fe78498-0b34-4c72-ad1e-0644facb91cc",
   "metadata": {
    "tags": []
   },
   "outputs": [],
   "source": [
    "%load_ext autoreload\n",
    "%autoreload 2"
   ]
  },
  {
   "cell_type": "code",
   "execution_count": 10,
   "id": "b1731a57-b83a-488f-b0c2-9f21c18f8d92",
   "metadata": {
    "tags": []
   },
   "outputs": [],
   "source": [
    "#Import packages\n",
    "import pandas as pd\n",
    "import numpy as np\n",
    "from sklearn.model_selection import train_test_split\n",
    "from sklearn.neural_network import MLPClassifier\n",
    "from sklearn.preprocessing import StandardScaler\n",
    "from sklearn.utils import class_weight\n",
    "from sklearn.metrics import accuracy_score, precision_score, recall_score"
   ]
  },
  {
   "cell_type": "code",
   "execution_count": 11,
   "id": "c21dd70c-b35a-4e30-b6b1-a6d9ba196f89",
   "metadata": {
    "tags": []
   },
   "outputs": [],
   "source": [
    "#Load dataset into a dataframe\n",
    "X_train = pd.read_csv('../data/processed/X_train.csv')\n",
    "y_train = pd.read_csv('../data/processed/y_train.csv')\n",
    "X_val = pd.read_csv('../data/processed/X_val.csv')\n",
    "X_test = pd.read_csv('../data/processed/X_test.csv')\n",
    "y_train = pd.read_csv('../data/processed/y_train.csv')\n",
    "y_val= pd.read_csv('../data/processed/y_val.csv')\n",
    "y_test = pd.read_csv('../data/processed/y_test.csv')"
   ]
  },
  {
   "cell_type": "code",
   "execution_count": 12,
   "id": "c6a3cc39-2b3e-4ce2-89ed-085bf3149638",
   "metadata": {},
   "outputs": [],
   "source": [
    "# Define features and target variable\n",
    "features = X_train[['num__Fruits', 'num__Non-starchy vegetables',\n",
    "       'num__Other starchy vegetables', 'num__Refined grains',\n",
    "       'num__Whole grains', 'num__Total processed meats',\n",
    "       'num__Unprocessed red meats', 'num__Eggs',\n",
    "       'num__Sugar-sweetened beverages', 'num__Fruit juices',\n",
    "       'num__Saturated fat', 'num__Monounsaturated fatty acids',\n",
    "       'num__Added sugars', 'num__Dietary sodium', 'num__Selenium',\n",
    "       'num__Total Milk', 'num__ObesityRate']] \n",
    "\n",
    "target = y_train['Diabetes prevalence (% of population ages 20 to 79)']"
   ]
  },
  {
   "cell_type": "code",
   "execution_count": 14,
   "id": "f43809c2-3a3b-46f3-98e5-806113ea5ab6",
   "metadata": {
    "tags": []
   },
   "outputs": [],
   "source": [
    "# Convert pandas DataFrame to numpy arrays\n",
    "X_train_np = X_train.values\n",
    "X_val_np = X_val.values\n",
    "X_test_np = X_test.values\n",
    "y_train_np = y_train.values.ravel()\n",
    "y_val_np = y_val.values.ravel()\n",
    "y_test_np = y_test.values.ravel()"
   ]
  },
  {
   "cell_type": "code",
   "execution_count": 15,
   "id": "98a146c0-3ed2-44ba-8c2d-0d916d649414",
   "metadata": {
    "tags": []
   },
   "outputs": [],
   "source": [
    "# Normalize the features using StandardScaler\n",
    "scaler = StandardScaler()\n",
    "X_train_scaled = scaler.fit_transform(X_train_np)\n",
    "X_val_scaled = scaler.transform(X_val_np)\n",
    "X_test_scaled = scaler.transform(X_test_np)"
   ]
  },
  {
   "cell_type": "code",
   "execution_count": 16,
   "id": "c9adf42d-19d3-4b37-ad24-35c393c38507",
   "metadata": {
    "tags": []
   },
   "outputs": [
    {
     "ename": "ValueError",
     "evalue": "Unknown label type: (array([ 9.1,  2.1,  4.8,  5.6,  9.1,  6.9, 12.7,  9.1,  5.5,  6.5,  6.7,\n        6.9,  8.6,  2.1,  7.5,  8.9, 11.3,  4.6,  6.5,  5.6, 12.7,  5.2,\n       10.8, 11.7,  2.1,  5.8, 10.8,  8.3,  6.4,  8.5,  4. ,  7.4,  2.6,\n       14.2,  2.1, 11.1,  9.6,  8.2, 10.7,  7.1, 15. ,  8.7, 11.9,  3.6,\n        5.7,  7.1,  4.6,  0. , 24.9,  7.1, 10.6,  6.4, 11.7,  3.3,  5.5,\n        5.6,  6.3,  9.7,  5.1,  7. , 12.6,  8.5,  5.4, 18.7,  4.6,  2.1,\n        6.7,  8.8,  6.1,  5.6, 13.8, 15.6, 17.7,  5.8,  3.1,  7.1,  6.3,\n       11.7, 15.6,  6.6,  2.1,  7.4, 19.5,  5.9,  5.5,  6.1,  5.5,  4.6,\n        7.3, 18.9,  4.6,  6.5,  3.6, 11.3,  4.8,  6.5,  6.2, 16.7, 10.5,\n        4.5,  8. , 19. , 10.2, 19.8,  5.8,  5.5,  2.1,  6.6, 11.1,  8.8,\n        6.8,  3.6,  5.5,  9. ,  5. ,  9.2, 14.5,  5.3]),)",
     "output_type": "error",
     "traceback": [
      "\u001b[1;31m---------------------------------------------------------------------------\u001b[0m",
      "\u001b[1;31mValueError\u001b[0m                                Traceback (most recent call last)",
      "Cell \u001b[1;32mIn[16], line 3\u001b[0m\n\u001b[0;32m      1\u001b[0m \u001b[38;5;66;03m# Train MLP classifier with class_weight='balanced'\u001b[39;00m\n\u001b[0;32m      2\u001b[0m mlp_model \u001b[38;5;241m=\u001b[39m MLPClassifier(hidden_layer_sizes\u001b[38;5;241m=\u001b[39m(\u001b[38;5;241m100\u001b[39m, \u001b[38;5;241m50\u001b[39m), max_iter\u001b[38;5;241m=\u001b[39m\u001b[38;5;241m500\u001b[39m, random_state\u001b[38;5;241m=\u001b[39m\u001b[38;5;241m42\u001b[39m)\n\u001b[1;32m----> 3\u001b[0m \u001b[43mmlp_model\u001b[49m\u001b[38;5;241;43m.\u001b[39;49m\u001b[43mfit\u001b[49m\u001b[43m(\u001b[49m\u001b[43mX_train_scaled\u001b[49m\u001b[43m,\u001b[49m\u001b[43m \u001b[49m\u001b[43my_train_np\u001b[49m\u001b[43m)\u001b[49m\n",
      "File \u001b[1;32m~\\AppData\\Local\\pypoetry\\Cache\\virtualenvs\\ilab_capstone_project-f_xTukCu-py3.9\\lib\\site-packages\\sklearn\\neural_network\\_multilayer_perceptron.py:749\u001b[0m, in \u001b[0;36mBaseMultilayerPerceptron.fit\u001b[1;34m(self, X, y)\u001b[0m\n\u001b[0;32m    731\u001b[0m \u001b[38;5;250m\u001b[39m\u001b[38;5;124;03m\"\"\"Fit the model to data matrix X and target(s) y.\u001b[39;00m\n\u001b[0;32m    732\u001b[0m \n\u001b[0;32m    733\u001b[0m \u001b[38;5;124;03mParameters\u001b[39;00m\n\u001b[1;32m   (...)\u001b[0m\n\u001b[0;32m    745\u001b[0m \u001b[38;5;124;03m    Returns a trained MLP model.\u001b[39;00m\n\u001b[0;32m    746\u001b[0m \u001b[38;5;124;03m\"\"\"\u001b[39;00m\n\u001b[0;32m    747\u001b[0m \u001b[38;5;28mself\u001b[39m\u001b[38;5;241m.\u001b[39m_validate_params()\n\u001b[1;32m--> 749\u001b[0m \u001b[38;5;28;01mreturn\u001b[39;00m \u001b[38;5;28;43mself\u001b[39;49m\u001b[38;5;241;43m.\u001b[39;49m\u001b[43m_fit\u001b[49m\u001b[43m(\u001b[49m\u001b[43mX\u001b[49m\u001b[43m,\u001b[49m\u001b[43m \u001b[49m\u001b[43my\u001b[49m\u001b[43m,\u001b[49m\u001b[43m \u001b[49m\u001b[43mincremental\u001b[49m\u001b[38;5;241;43m=\u001b[39;49m\u001b[38;5;28;43;01mFalse\u001b[39;49;00m\u001b[43m)\u001b[49m\n",
      "File \u001b[1;32m~\\AppData\\Local\\pypoetry\\Cache\\virtualenvs\\ilab_capstone_project-f_xTukCu-py3.9\\lib\\site-packages\\sklearn\\neural_network\\_multilayer_perceptron.py:437\u001b[0m, in \u001b[0;36mBaseMultilayerPerceptron._fit\u001b[1;34m(self, X, y, incremental)\u001b[0m\n\u001b[0;32m    430\u001b[0m     \u001b[38;5;28;01mraise\u001b[39;00m \u001b[38;5;167;01mValueError\u001b[39;00m(\n\u001b[0;32m    431\u001b[0m         \u001b[38;5;124m\"\u001b[39m\u001b[38;5;124mhidden_layer_sizes must be > 0, got \u001b[39m\u001b[38;5;132;01m%s\u001b[39;00m\u001b[38;5;124m.\u001b[39m\u001b[38;5;124m\"\u001b[39m \u001b[38;5;241m%\u001b[39m hidden_layer_sizes\n\u001b[0;32m    432\u001b[0m     )\n\u001b[0;32m    433\u001b[0m first_pass \u001b[38;5;241m=\u001b[39m \u001b[38;5;129;01mnot\u001b[39;00m \u001b[38;5;28mhasattr\u001b[39m(\u001b[38;5;28mself\u001b[39m, \u001b[38;5;124m\"\u001b[39m\u001b[38;5;124mcoefs_\u001b[39m\u001b[38;5;124m\"\u001b[39m) \u001b[38;5;129;01mor\u001b[39;00m (\n\u001b[0;32m    434\u001b[0m     \u001b[38;5;129;01mnot\u001b[39;00m \u001b[38;5;28mself\u001b[39m\u001b[38;5;241m.\u001b[39mwarm_start \u001b[38;5;129;01mand\u001b[39;00m \u001b[38;5;129;01mnot\u001b[39;00m incremental\n\u001b[0;32m    435\u001b[0m )\n\u001b[1;32m--> 437\u001b[0m X, y \u001b[38;5;241m=\u001b[39m \u001b[38;5;28;43mself\u001b[39;49m\u001b[38;5;241;43m.\u001b[39;49m\u001b[43m_validate_input\u001b[49m\u001b[43m(\u001b[49m\u001b[43mX\u001b[49m\u001b[43m,\u001b[49m\u001b[43m \u001b[49m\u001b[43my\u001b[49m\u001b[43m,\u001b[49m\u001b[43m \u001b[49m\u001b[43mincremental\u001b[49m\u001b[43m,\u001b[49m\u001b[43m \u001b[49m\u001b[43mreset\u001b[49m\u001b[38;5;241;43m=\u001b[39;49m\u001b[43mfirst_pass\u001b[49m\u001b[43m)\u001b[49m\n\u001b[0;32m    439\u001b[0m n_samples, n_features \u001b[38;5;241m=\u001b[39m X\u001b[38;5;241m.\u001b[39mshape\n\u001b[0;32m    441\u001b[0m \u001b[38;5;66;03m# Ensure y is 2D\u001b[39;00m\n",
      "File \u001b[1;32m~\\AppData\\Local\\pypoetry\\Cache\\virtualenvs\\ilab_capstone_project-f_xTukCu-py3.9\\lib\\site-packages\\sklearn\\neural_network\\_multilayer_perceptron.py:1120\u001b[0m, in \u001b[0;36mMLPClassifier._validate_input\u001b[1;34m(self, X, y, incremental, reset)\u001b[0m\n\u001b[0;32m   1118\u001b[0m \u001b[38;5;28;01mif\u001b[39;00m (\u001b[38;5;129;01mnot\u001b[39;00m \u001b[38;5;28mhasattr\u001b[39m(\u001b[38;5;28mself\u001b[39m, \u001b[38;5;124m\"\u001b[39m\u001b[38;5;124mclasses_\u001b[39m\u001b[38;5;124m\"\u001b[39m)) \u001b[38;5;129;01mor\u001b[39;00m (\u001b[38;5;129;01mnot\u001b[39;00m \u001b[38;5;28mself\u001b[39m\u001b[38;5;241m.\u001b[39mwarm_start \u001b[38;5;129;01mand\u001b[39;00m \u001b[38;5;129;01mnot\u001b[39;00m incremental):\n\u001b[0;32m   1119\u001b[0m     \u001b[38;5;28mself\u001b[39m\u001b[38;5;241m.\u001b[39m_label_binarizer \u001b[38;5;241m=\u001b[39m LabelBinarizer()\n\u001b[1;32m-> 1120\u001b[0m     \u001b[38;5;28;43mself\u001b[39;49m\u001b[38;5;241;43m.\u001b[39;49m\u001b[43m_label_binarizer\u001b[49m\u001b[38;5;241;43m.\u001b[39;49m\u001b[43mfit\u001b[49m\u001b[43m(\u001b[49m\u001b[43my\u001b[49m\u001b[43m)\u001b[49m\n\u001b[0;32m   1121\u001b[0m     \u001b[38;5;28mself\u001b[39m\u001b[38;5;241m.\u001b[39mclasses_ \u001b[38;5;241m=\u001b[39m \u001b[38;5;28mself\u001b[39m\u001b[38;5;241m.\u001b[39m_label_binarizer\u001b[38;5;241m.\u001b[39mclasses_\n\u001b[0;32m   1122\u001b[0m \u001b[38;5;28;01melse\u001b[39;00m:\n",
      "File \u001b[1;32m~\\AppData\\Local\\pypoetry\\Cache\\virtualenvs\\ilab_capstone_project-f_xTukCu-py3.9\\lib\\site-packages\\sklearn\\preprocessing\\_label.py:311\u001b[0m, in \u001b[0;36mLabelBinarizer.fit\u001b[1;34m(self, y)\u001b[0m\n\u001b[0;32m    308\u001b[0m     \u001b[38;5;28;01mraise\u001b[39;00m \u001b[38;5;167;01mValueError\u001b[39;00m(\u001b[38;5;124m\"\u001b[39m\u001b[38;5;124my has 0 samples: \u001b[39m\u001b[38;5;132;01m%r\u001b[39;00m\u001b[38;5;124m\"\u001b[39m \u001b[38;5;241m%\u001b[39m y)\n\u001b[0;32m    310\u001b[0m \u001b[38;5;28mself\u001b[39m\u001b[38;5;241m.\u001b[39msparse_input_ \u001b[38;5;241m=\u001b[39m sp\u001b[38;5;241m.\u001b[39missparse(y)\n\u001b[1;32m--> 311\u001b[0m \u001b[38;5;28mself\u001b[39m\u001b[38;5;241m.\u001b[39mclasses_ \u001b[38;5;241m=\u001b[39m \u001b[43munique_labels\u001b[49m\u001b[43m(\u001b[49m\u001b[43my\u001b[49m\u001b[43m)\u001b[49m\n\u001b[0;32m    312\u001b[0m \u001b[38;5;28;01mreturn\u001b[39;00m \u001b[38;5;28mself\u001b[39m\n",
      "File \u001b[1;32m~\\AppData\\Local\\pypoetry\\Cache\\virtualenvs\\ilab_capstone_project-f_xTukCu-py3.9\\lib\\site-packages\\sklearn\\utils\\multiclass.py:107\u001b[0m, in \u001b[0;36munique_labels\u001b[1;34m(*ys)\u001b[0m\n\u001b[0;32m    105\u001b[0m _unique_labels \u001b[38;5;241m=\u001b[39m _FN_UNIQUE_LABELS\u001b[38;5;241m.\u001b[39mget(label_type, \u001b[38;5;28;01mNone\u001b[39;00m)\n\u001b[0;32m    106\u001b[0m \u001b[38;5;28;01mif\u001b[39;00m \u001b[38;5;129;01mnot\u001b[39;00m _unique_labels:\n\u001b[1;32m--> 107\u001b[0m     \u001b[38;5;28;01mraise\u001b[39;00m \u001b[38;5;167;01mValueError\u001b[39;00m(\u001b[38;5;124m\"\u001b[39m\u001b[38;5;124mUnknown label type: \u001b[39m\u001b[38;5;132;01m%s\u001b[39;00m\u001b[38;5;124m\"\u001b[39m \u001b[38;5;241m%\u001b[39m \u001b[38;5;28mrepr\u001b[39m(ys))\n\u001b[0;32m    109\u001b[0m \u001b[38;5;28;01mif\u001b[39;00m is_array_api:\n\u001b[0;32m    110\u001b[0m     \u001b[38;5;66;03m# array_api does not allow for mixed dtypes\u001b[39;00m\n\u001b[0;32m    111\u001b[0m     unique_ys \u001b[38;5;241m=\u001b[39m xp\u001b[38;5;241m.\u001b[39mconcat([_unique_labels(y) \u001b[38;5;28;01mfor\u001b[39;00m y \u001b[38;5;129;01min\u001b[39;00m ys])\n",
      "\u001b[1;31mValueError\u001b[0m: Unknown label type: (array([ 9.1,  2.1,  4.8,  5.6,  9.1,  6.9, 12.7,  9.1,  5.5,  6.5,  6.7,\n        6.9,  8.6,  2.1,  7.5,  8.9, 11.3,  4.6,  6.5,  5.6, 12.7,  5.2,\n       10.8, 11.7,  2.1,  5.8, 10.8,  8.3,  6.4,  8.5,  4. ,  7.4,  2.6,\n       14.2,  2.1, 11.1,  9.6,  8.2, 10.7,  7.1, 15. ,  8.7, 11.9,  3.6,\n        5.7,  7.1,  4.6,  0. , 24.9,  7.1, 10.6,  6.4, 11.7,  3.3,  5.5,\n        5.6,  6.3,  9.7,  5.1,  7. , 12.6,  8.5,  5.4, 18.7,  4.6,  2.1,\n        6.7,  8.8,  6.1,  5.6, 13.8, 15.6, 17.7,  5.8,  3.1,  7.1,  6.3,\n       11.7, 15.6,  6.6,  2.1,  7.4, 19.5,  5.9,  5.5,  6.1,  5.5,  4.6,\n        7.3, 18.9,  4.6,  6.5,  3.6, 11.3,  4.8,  6.5,  6.2, 16.7, 10.5,\n        4.5,  8. , 19. , 10.2, 19.8,  5.8,  5.5,  2.1,  6.6, 11.1,  8.8,\n        6.8,  3.6,  5.5,  9. ,  5. ,  9.2, 14.5,  5.3]),)"
     ]
    }
   ],
   "source": [
    "# Train MLP classifier with class_weight='balanced'\n",
    "mlp_model = MLPClassifier(hidden_layer_sizes=(100, 50), max_iter=500, random_state=42)\n",
    "mlp_model.fit(X_train_scaled, y_train_np)"
   ]
  },
  {
   "cell_type": "code",
   "execution_count": 9,
   "id": "2c5da330-3ba1-4bab-9640-0bd6cbdcb686",
   "metadata": {
    "tags": []
   },
   "outputs": [],
   "source": [
    "# Predict on the test set\n",
    "y_pred = mlp_model.predict(X_test_scaled)"
   ]
  },
  {
   "cell_type": "code",
   "execution_count": null,
   "id": "34ecc6dc-98fd-4790-8abb-ec7083ad4b6f",
   "metadata": {},
   "outputs": [],
   "source": [
    "# Convert predictions to binary using a threshold (e.g., 0.5)\n",
    "threshold = 0.5\n",
    "y_pred_binary = (y_pred > threshold).astype(int)"
   ]
  },
  {
   "cell_type": "code",
   "execution_count": 11,
   "id": "803872cd-0381-4993-9a0d-795c06735c9d",
   "metadata": {
    "tags": []
   },
   "outputs": [
    {
     "name": "stdout",
     "output_type": "stream",
     "text": [
      "Accuracy: 0.51\n",
      "Precision: 0.00\n",
      "Recall: 0.00\n"
     ]
    },
    {
     "name": "stderr",
     "output_type": "stream",
     "text": [
      "C:\\Users\\joann\\AppData\\Local\\pypoetry\\Cache\\virtualenvs\\ilab_capstone_project-f_xTukCu-py3.9\\lib\\site-packages\\sklearn\\metrics\\_classification.py:1344: UndefinedMetricWarning: Precision is ill-defined and being set to 0.0 due to no predicted samples. Use `zero_division` parameter to control this behavior.\n",
      "  _warn_prf(average, modifier, msg_start, len(result))\n"
     ]
    }
   ],
   "source": [
    "# Calculate accuracy, precision, and recall\n",
    "accuracy = accuracy_score(y_test_binary, y_pred_binary)\n",
    "precision = precision_score(y_test_binary, y_pred_binary)\n",
    "recall = recall_score(y_test_binary, y_pred_binary)\n",
    "\n",
    "print(f\"Accuracy: {accuracy:.2f}\")\n",
    "print(f\"Precision: {precision:.2f}\")\n",
    "print(f\"Recall: {recall:.2f}\")"
   ]
  },
  {
   "cell_type": "code",
   "execution_count": null,
   "id": "e342e8ff-eec8-4fed-b22a-c047929f3a42",
   "metadata": {},
   "outputs": [],
   "source": []
  }
 ],
 "metadata": {
  "kernelspec": {
   "display_name": "Python 3 (ipykernel)",
   "language": "python",
   "name": "python3"
  },
  "language_info": {
   "codemirror_mode": {
    "name": "ipython",
    "version": 3
   },
   "file_extension": ".py",
   "mimetype": "text/x-python",
   "name": "python",
   "nbconvert_exporter": "python",
   "pygments_lexer": "ipython3",
   "version": "3.9.13"
  }
 },
 "nbformat": 4,
 "nbformat_minor": 5
}
