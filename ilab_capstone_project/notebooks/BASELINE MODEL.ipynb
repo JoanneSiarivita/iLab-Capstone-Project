{
 "cells": [
  {
   "cell_type": "code",
   "execution_count": 1,
   "metadata": {
    "tags": []
   },
   "outputs": [],
   "source": [
    "#Launch commands to automatically reload modules\n",
    "%load_ext autoreload\n",
    "%autoreload 2"
   ]
  },
  {
   "cell_type": "code",
   "execution_count": 2,
   "metadata": {
    "id": "kjFt60nu2DXR",
    "tags": []
   },
   "outputs": [],
   "source": [
    "#Load libraries to use\n",
    "import numpy as np\n",
    "import pandas as pd\n",
    "import matplotlib.pyplot as plt\n",
    "import seaborn as sns"
   ]
  },
  {
   "cell_type": "code",
   "execution_count": 3,
   "metadata": {
    "tags": []
   },
   "outputs": [],
   "source": [
    "#Load dataset into a dataframe\n",
    "data = pd.read_csv('../data/raw/GlobalDietaryDatabase_V2.csv')"
   ]
  },
  {
   "cell_type": "code",
   "execution_count": 4,
   "metadata": {
    "tags": []
   },
   "outputs": [
    {
     "data": {
      "text/plain": [
       "(185, 74)"
      ]
     },
     "execution_count": 4,
     "metadata": {},
     "output_type": "execute_result"
    }
   ],
   "source": [
    "#Display dimensions of the dataframe(df)\n",
    "data.shape"
   ]
  },
  {
   "cell_type": "code",
   "execution_count": 6,
   "metadata": {
    "tags": []
   },
   "outputs": [
    {
     "data": {
      "text/html": [
       "<div>\n",
       "<style scoped>\n",
       "    .dataframe tbody tr th:only-of-type {\n",
       "        vertical-align: middle;\n",
       "    }\n",
       "\n",
       "    .dataframe tbody tr th {\n",
       "        vertical-align: top;\n",
       "    }\n",
       "\n",
       "    .dataframe thead th {\n",
       "        text-align: right;\n",
       "    }\n",
       "</style>\n",
       "<table border=\"1\" class=\"dataframe\">\n",
       "  <thead>\n",
       "    <tr style=\"text-align: right;\">\n",
       "      <th></th>\n",
       "      <th>Unnamed: 0</th>\n",
       "      <th>Entity</th>\n",
       "      <th>superregion2</th>\n",
       "      <th>iso3</th>\n",
       "      <th>Fruits</th>\n",
       "      <th>Non-starchy vegetables</th>\n",
       "      <th>Potatoes</th>\n",
       "      <th>Other starchy vegetables</th>\n",
       "      <th>Beans and legumes</th>\n",
       "      <th>Nuts and seeds</th>\n",
       "      <th>...</th>\n",
       "      <th>Supply_ Fish, shellfish and their products</th>\n",
       "      <th>Supply_ Meat and meat products</th>\n",
       "      <th>Supply_ Vegetables and their products</th>\n",
       "      <th>Supply_ Fruits and their products</th>\n",
       "      <th>Supply_ Fats and oils</th>\n",
       "      <th>Supply_ Sweets and sugars</th>\n",
       "      <th>Supply_ Spices and condiments</th>\n",
       "      <th>Supply_ Beverages</th>\n",
       "      <th>Supply_ Foods for particular nutritional uses</th>\n",
       "      <th>Supply_ Miscellaneous</th>\n",
       "    </tr>\n",
       "  </thead>\n",
       "  <tbody>\n",
       "    <tr>\n",
       "      <th>0</th>\n",
       "      <td>1</td>\n",
       "      <td>Afghanistan</td>\n",
       "      <td>SAARC</td>\n",
       "      <td>AFG</td>\n",
       "      <td>65.697036</td>\n",
       "      <td>98.080124</td>\n",
       "      <td>21.195808</td>\n",
       "      <td>44.892140</td>\n",
       "      <td>103.830266</td>\n",
       "      <td>31.205695</td>\n",
       "      <td>...</td>\n",
       "      <td>1</td>\n",
       "      <td>48</td>\n",
       "      <td>27</td>\n",
       "      <td>76</td>\n",
       "      <td>222</td>\n",
       "      <td>134</td>\n",
       "      <td>3</td>\n",
       "      <td>1</td>\n",
       "      <td>0</td>\n",
       "      <td>1</td>\n",
       "    </tr>\n",
       "    <tr>\n",
       "      <th>1</th>\n",
       "      <td>2</td>\n",
       "      <td>Angola</td>\n",
       "      <td>SSA</td>\n",
       "      <td>AGO</td>\n",
       "      <td>119.746980</td>\n",
       "      <td>308.837004</td>\n",
       "      <td>346.377109</td>\n",
       "      <td>52.662482</td>\n",
       "      <td>37.799557</td>\n",
       "      <td>11.612246</td>\n",
       "      <td>...</td>\n",
       "      <td>28</td>\n",
       "      <td>106</td>\n",
       "      <td>14</td>\n",
       "      <td>112</td>\n",
       "      <td>267</td>\n",
       "      <td>135</td>\n",
       "      <td>0</td>\n",
       "      <td>85</td>\n",
       "      <td>4</td>\n",
       "      <td>2</td>\n",
       "    </tr>\n",
       "    <tr>\n",
       "      <th>2</th>\n",
       "      <td>3</td>\n",
       "      <td>Albania</td>\n",
       "      <td>FSU</td>\n",
       "      <td>ALB</td>\n",
       "      <td>138.874360</td>\n",
       "      <td>129.083757</td>\n",
       "      <td>185.783632</td>\n",
       "      <td>73.031694</td>\n",
       "      <td>40.181361</td>\n",
       "      <td>12.272771</td>\n",
       "      <td>...</td>\n",
       "      <td>16</td>\n",
       "      <td>263</td>\n",
       "      <td>211</td>\n",
       "      <td>393</td>\n",
       "      <td>297</td>\n",
       "      <td>308</td>\n",
       "      <td>2</td>\n",
       "      <td>83</td>\n",
       "      <td>1</td>\n",
       "      <td>19</td>\n",
       "    </tr>\n",
       "    <tr>\n",
       "      <th>3</th>\n",
       "      <td>4</td>\n",
       "      <td>United Arab Emirates</td>\n",
       "      <td>MENA</td>\n",
       "      <td>ARE</td>\n",
       "      <td>107.577820</td>\n",
       "      <td>123.284747</td>\n",
       "      <td>182.972287</td>\n",
       "      <td>57.068126</td>\n",
       "      <td>40.563807</td>\n",
       "      <td>31.729379</td>\n",
       "      <td>...</td>\n",
       "      <td>48</td>\n",
       "      <td>353</td>\n",
       "      <td>106</td>\n",
       "      <td>176</td>\n",
       "      <td>718</td>\n",
       "      <td>223</td>\n",
       "      <td>34</td>\n",
       "      <td>36</td>\n",
       "      <td>6</td>\n",
       "      <td>9</td>\n",
       "    </tr>\n",
       "    <tr>\n",
       "      <th>4</th>\n",
       "      <td>5</td>\n",
       "      <td>Argentina</td>\n",
       "      <td>LAC</td>\n",
       "      <td>ARG</td>\n",
       "      <td>93.995787</td>\n",
       "      <td>123.803276</td>\n",
       "      <td>51.336122</td>\n",
       "      <td>7.010755</td>\n",
       "      <td>3.575009</td>\n",
       "      <td>1.564769</td>\n",
       "      <td>...</td>\n",
       "      <td>11</td>\n",
       "      <td>601</td>\n",
       "      <td>52</td>\n",
       "      <td>91</td>\n",
       "      <td>552</td>\n",
       "      <td>400</td>\n",
       "      <td>3</td>\n",
       "      <td>125</td>\n",
       "      <td>0</td>\n",
       "      <td>0</td>\n",
       "    </tr>\n",
       "  </tbody>\n",
       "</table>\n",
       "<p>5 rows × 74 columns</p>\n",
       "</div>"
      ],
      "text/plain": [
       "   Unnamed: 0                Entity superregion2 iso3      Fruits   \n",
       "0           1           Afghanistan        SAARC  AFG   65.697036  \\\n",
       "1           2                Angola          SSA  AGO  119.746980   \n",
       "2           3               Albania          FSU  ALB  138.874360   \n",
       "3           4  United Arab Emirates         MENA  ARE  107.577820   \n",
       "4           5             Argentina          LAC  ARG   93.995787   \n",
       "\n",
       "   Non-starchy vegetables    Potatoes  Other starchy vegetables   \n",
       "0               98.080124   21.195808                 44.892140  \\\n",
       "1              308.837004  346.377109                 52.662482   \n",
       "2              129.083757  185.783632                 73.031694   \n",
       "3              123.284747  182.972287                 57.068126   \n",
       "4              123.803276   51.336122                  7.010755   \n",
       "\n",
       "   Beans and legumes  Nuts and seeds  ...   \n",
       "0         103.830266       31.205695  ...  \\\n",
       "1          37.799557       11.612246  ...   \n",
       "2          40.181361       12.272771  ...   \n",
       "3          40.563807       31.729379  ...   \n",
       "4           3.575009        1.564769  ...   \n",
       "\n",
       "   Supply_ Fish, shellfish and their products  Supply_ Meat and meat products   \n",
       "0                                           1                              48  \\\n",
       "1                                          28                             106   \n",
       "2                                          16                             263   \n",
       "3                                          48                             353   \n",
       "4                                          11                             601   \n",
       "\n",
       "   Supply_ Vegetables and their products  Supply_ Fruits and their products   \n",
       "0                                     27                                 76  \\\n",
       "1                                     14                                112   \n",
       "2                                    211                                393   \n",
       "3                                    106                                176   \n",
       "4                                     52                                 91   \n",
       "\n",
       "   Supply_ Fats and oils  Supply_ Sweets and sugars   \n",
       "0                    222                        134  \\\n",
       "1                    267                        135   \n",
       "2                    297                        308   \n",
       "3                    718                        223   \n",
       "4                    552                        400   \n",
       "\n",
       "   Supply_ Spices and condiments  Supply_ Beverages   \n",
       "0                              3                  1  \\\n",
       "1                              0                 85   \n",
       "2                              2                 83   \n",
       "3                             34                 36   \n",
       "4                              3                125   \n",
       "\n",
       "   Supply_ Foods for particular nutritional uses  Supply_ Miscellaneous  \n",
       "0                                              0                      1  \n",
       "1                                              4                      2  \n",
       "2                                              1                     19  \n",
       "3                                              6                      9  \n",
       "4                                              0                      0  \n",
       "\n",
       "[5 rows x 74 columns]"
      ]
     },
     "execution_count": 6,
     "metadata": {},
     "output_type": "execute_result"
    }
   ],
   "source": [
    "# Display the first few rows of the dataset\n",
    "data.head()"
   ]
  },
  {
   "cell_type": "code",
   "execution_count": 7,
   "metadata": {
    "tags": []
   },
   "outputs": [
    {
     "name": "stdout",
     "output_type": "stream",
     "text": [
      "Unnamed: 0                                       0\n",
      "Entity                                           0\n",
      "superregion2                                     0\n",
      "iso3                                             0\n",
      "Fruits                                           0\n",
      "                                                ..\n",
      "Supply_ Sweets and sugars                        0\n",
      "Supply_ Spices and condiments                    0\n",
      "Supply_ Beverages                                0\n",
      "Supply_ Foods for particular nutritional uses    0\n",
      "Supply_ Miscellaneous                            0\n",
      "Length: 74, dtype: int64\n"
     ]
    }
   ],
   "source": [
    "# Check for missing values\n",
    "print(data.isnull().sum())"
   ]
  },
  {
   "cell_type": "markdown",
   "metadata": {
    "id": "WB_V0b4JkwTB"
   },
   "source": [
    "# **DATA CLEANING**"
   ]
  },
  {
   "cell_type": "code",
   "execution_count": 8,
   "metadata": {
    "tags": []
   },
   "outputs": [],
   "source": [
    "#Make a copy of the dataframe(df) to be cleaned\n",
    "df_cleaned = data.copy()"
   ]
  },
  {
   "cell_type": "code",
   "execution_count": 9,
   "metadata": {
    "colab": {
     "base_uri": "https://localhost:8080/"
    },
    "id": "bqteiSISowkX",
    "outputId": "223f4d70-a932-4006-f23c-71dad9087182",
    "tags": []
   },
   "outputs": [
    {
     "data": {
      "text/plain": [
       "(                 Entity superregion2 iso3      Fruits  Non-starchy vegetables   \n",
       " 0           Afghanistan        SAARC  AFG   65.697036               98.080124  \\\n",
       " 1                Angola          SSA  AGO  119.746980              308.837004   \n",
       " 2               Albania          FSU  ALB  138.874360              129.083757   \n",
       " 3  United Arab Emirates         MENA  ARE  107.577820              123.284747   \n",
       " 4             Argentina          LAC  ARG   93.995787              123.803276   \n",
       " \n",
       "      Potatoes  Other starchy vegetables  Beans and legumes  Nuts and seeds   \n",
       " 0   21.195808                 44.892140         103.830266       31.205695  \\\n",
       " 1  346.377109                 52.662482          37.799557       11.612246   \n",
       " 2  185.783632                 73.031694          40.181361       12.272771   \n",
       " 3  182.972287                 57.068126          40.563807       31.729379   \n",
       " 4   51.336122                  7.010755           3.575009        1.564769   \n",
       " \n",
       "    Refined grains  ...  Vitamin E      Zinc  Total Milk  Year   \n",
       " 0      223.168905  ...   6.426413  7.644691   69.785193  2021  \\\n",
       " 1      223.838504  ...   7.970200  7.274286   32.784132  2021   \n",
       " 2      252.814018  ...  15.171798  7.995075  113.739785  2021   \n",
       " 3      337.642299  ...   7.379018  8.514326  129.185734  2021   \n",
       " 4      174.327695  ...   8.424583  9.163603  136.438275  2021   \n",
       " \n",
       "    Diabetes prevalence (% of population ages 20 to 79)      Continent   \n",
       " 0                                               10.9             Asia  \\\n",
       " 1                                                4.6           Africa   \n",
       " 2                                               10.2           Europe   \n",
       " 3                                               16.4             Asia   \n",
       " 4                                                5.4    South America   \n",
       " \n",
       "    ObesityRate  Population (2021)  Gross National Income Per Capita (2021)   \n",
       " 0        18.19           40099462                              1824.190915  \\\n",
       " 1        11.11           34503774                              5465.617791   \n",
       " 2        22.69            2854710                             14131.110390   \n",
       " 3        32.02            9365145                             62573.591810   \n",
       " 4        34.37           45276780                             20925.268140   \n",
       " \n",
       "          Unit  \n",
       " 0  kcal/cap/d  \n",
       " 1  kcal/cap/d  \n",
       " 2  kcal/cap/d  \n",
       " 3  kcal/cap/d  \n",
       " 4  kcal/cap/d  \n",
       " \n",
       " [5 rows x 56 columns],\n",
       " Entity                                                 0\n",
       " superregion2                                           0\n",
       " iso3                                                   0\n",
       " Fruits                                                 0\n",
       " Non-starchy vegetables                                 0\n",
       " Potatoes                                               0\n",
       " Other starchy vegetables                               0\n",
       " Beans and legumes                                      0\n",
       " Nuts and seeds                                         0\n",
       " Refined grains                                         0\n",
       " Whole grains                                           0\n",
       " Total processed meats                                  0\n",
       " Unprocessed red meats                                  0\n",
       " Total seafoods                                         0\n",
       " Eggs                                                   0\n",
       " Cheese                                                 0\n",
       " Yoghurt (including fermented milk)                     0\n",
       " Sugar-sweetened beverages                              0\n",
       " Fruit juices                                           0\n",
       " Coffee                                                 0\n",
       " Tea                                                    0\n",
       " Total carbohydrates                                    0\n",
       " Total protein                                          0\n",
       " Saturated fat                                          0\n",
       " Monounsaturated fatty acids                            0\n",
       " Total omega-6 fat                                      0\n",
       " Seafood omega-3 fat                                    0\n",
       " Plant omega-3 fat                                      0\n",
       " Dietary fiber                                          0\n",
       " Added sugars                                           0\n",
       " Calcium                                                0\n",
       " Dietary sodium                                         0\n",
       " Iodine                                                 0\n",
       " Iron                                                   0\n",
       " Magnesium                                              0\n",
       " Potassium                                              0\n",
       " Selenium                                               0\n",
       " Vitamin A w/ supplements                               0\n",
       " Vitamin B1                                             0\n",
       " Vitamin B2                                             0\n",
       " Vitamin B3                                             0\n",
       " Vitamin B6                                             0\n",
       " Vitamin B9 (Folate)                                    0\n",
       " Vitamin B12                                            0\n",
       " Vitamin C                                              0\n",
       " Vitamin D                                              0\n",
       " Vitamin E                                              0\n",
       " Zinc                                                   0\n",
       " Total Milk                                             0\n",
       " Year                                                   0\n",
       " Diabetes prevalence (% of population ages 20 to 79)    0\n",
       " Continent                                              0\n",
       " ObesityRate                                            0\n",
       " Population (2021)                                      0\n",
       " Gross National Income Per Capita (2021)                0\n",
       " Unit                                                   0\n",
       " dtype: int64,\n",
       " Entity                                                  object\n",
       " superregion2                                            object\n",
       " iso3                                                    object\n",
       " Fruits                                                 float64\n",
       " Non-starchy vegetables                                 float64\n",
       " Potatoes                                               float64\n",
       " Other starchy vegetables                               float64\n",
       " Beans and legumes                                      float64\n",
       " Nuts and seeds                                         float64\n",
       " Refined grains                                         float64\n",
       " Whole grains                                           float64\n",
       " Total processed meats                                  float64\n",
       " Unprocessed red meats                                  float64\n",
       " Total seafoods                                         float64\n",
       " Eggs                                                   float64\n",
       " Cheese                                                 float64\n",
       " Yoghurt (including fermented milk)                     float64\n",
       " Sugar-sweetened beverages                              float64\n",
       " Fruit juices                                           float64\n",
       " Coffee                                                 float64\n",
       " Tea                                                    float64\n",
       " Total carbohydrates                                    float64\n",
       " Total protein                                          float64\n",
       " Saturated fat                                          float64\n",
       " Monounsaturated fatty acids                            float64\n",
       " Total omega-6 fat                                      float64\n",
       " Seafood omega-3 fat                                    float64\n",
       " Plant omega-3 fat                                      float64\n",
       " Dietary fiber                                          float64\n",
       " Added sugars                                           float64\n",
       " Calcium                                                float64\n",
       " Dietary sodium                                         float64\n",
       " Iodine                                                 float64\n",
       " Iron                                                   float64\n",
       " Magnesium                                              float64\n",
       " Potassium                                              float64\n",
       " Selenium                                               float64\n",
       " Vitamin A w/ supplements                               float64\n",
       " Vitamin B1                                             float64\n",
       " Vitamin B2                                             float64\n",
       " Vitamin B3                                             float64\n",
       " Vitamin B6                                             float64\n",
       " Vitamin B9 (Folate)                                    float64\n",
       " Vitamin B12                                            float64\n",
       " Vitamin C                                              float64\n",
       " Vitamin D                                              float64\n",
       " Vitamin E                                              float64\n",
       " Zinc                                                   float64\n",
       " Total Milk                                             float64\n",
       " Year                                                     int64\n",
       " Diabetes prevalence (% of population ages 20 to 79)    float64\n",
       " Continent                                               object\n",
       " ObesityRate                                            float64\n",
       " Population (2021)                                        int64\n",
       " Gross National Income Per Capita (2021)                float64\n",
       " Unit                                                    object\n",
       " dtype: object)"
      ]
     },
     "execution_count": 9,
     "metadata": {},
     "output_type": "execute_result"
    }
   ],
   "source": [
    "#Remove unnecessary columns\n",
    "columns_to_drop = ['Unnamed: 0'] + [col for col in data.columns if col.startswith('Supply_')]\n",
    "df_cleaned = data.drop(columns=columns_to_drop)\n",
    "\n",
    "#Handle missing values. For simplicity, we'll fill missing values with the mean of their respective columns.\n",
    "df_cleaned = df_cleaned.fillna(df_cleaned.mean(numeric_only=True))\n",
    "\n",
    "#Check if there's any remaining missing value that wasn't handled (e.g., non-numeric columns).\n",
    "missing_values_check = df_cleaned.isnull().sum()\n",
    "\n",
    "#Check data types for a brief overview.\n",
    "data_types = df_cleaned.dtypes\n",
    "\n",
    "(df_cleaned.head(), missing_values_check, data_types)"
   ]
  },
  {
   "cell_type": "code",
   "execution_count": 10,
   "metadata": {
    "tags": []
   },
   "outputs": [
    {
     "data": {
      "text/plain": [
       "Index(['Entity', 'superregion2', 'iso3', 'Fruits', 'Non-starchy vegetables',\n",
       "       'Potatoes', 'Other starchy vegetables', 'Beans and legumes',\n",
       "       'Nuts and seeds', 'Refined grains', 'Whole grains',\n",
       "       'Total processed meats', 'Unprocessed red meats', 'Total seafoods',\n",
       "       'Eggs', 'Cheese', 'Yoghurt (including fermented milk)',\n",
       "       'Sugar-sweetened beverages', 'Fruit juices', 'Coffee', 'Tea',\n",
       "       'Total carbohydrates', 'Total protein', 'Saturated fat',\n",
       "       'Monounsaturated fatty acids', 'Total omega-6 fat',\n",
       "       'Seafood omega-3 fat', 'Plant omega-3 fat', 'Dietary fiber',\n",
       "       'Added sugars', 'Calcium', 'Dietary sodium', 'Iodine', 'Iron',\n",
       "       'Magnesium', 'Potassium', 'Selenium', 'Vitamin A w/ supplements',\n",
       "       'Vitamin B1', 'Vitamin B2', 'Vitamin B3', 'Vitamin B6',\n",
       "       'Vitamin B9 (Folate)', 'Vitamin B12', 'Vitamin C', 'Vitamin D',\n",
       "       'Vitamin E', 'Zinc', 'Total Milk', 'Year',\n",
       "       'Diabetes prevalence (% of population ages 20 to 79)', 'Continent',\n",
       "       'ObesityRate', 'Population (2021)',\n",
       "       'Gross National Income Per Capita (2021)', 'Unit'],\n",
       "      dtype='object')"
      ]
     },
     "execution_count": 10,
     "metadata": {},
     "output_type": "execute_result"
    }
   ],
   "source": [
    "df_cleaned.columns"
   ]
  },
  {
   "cell_type": "code",
   "execution_count": 12,
   "metadata": {
    "tags": []
   },
   "outputs": [],
   "source": [
    "# Define dictionary of old and new column names\n",
    "column_name_mapping = {\n",
    "    'Entity': 'Country',\n",
    "    'Population (2021)': 'Population', 'Gross National Income Per Capita (2021)': 'Gross Income Per Capita',\n",
    "    'Diabetes prevalence (% of population ages 20 to 79)': 'Diabetes prevalence'\n",
    "}\n",
    "\n",
    "# Rename the columns\n",
    "df_cleaned = df_cleaned.rename(columns=column_name_mapping)"
   ]
  },
  {
   "cell_type": "markdown",
   "metadata": {
    "tags": []
   },
   "source": [
    "# **MODELLING**"
   ]
  },
  {
   "cell_type": "code",
   "execution_count": 13,
   "metadata": {
    "tags": []
   },
   "outputs": [],
   "source": [
    "#Define target feature\n",
    "target = df_cleaned.pop('Diabetes prevalence')"
   ]
  },
  {
   "cell_type": "code",
   "execution_count": 14,
   "metadata": {
    "tags": []
   },
   "outputs": [],
   "source": [
    "#Split numerical and categorical columns\n",
    "num_cols = list(df_cleaned.select_dtypes('number').columns)\n",
    "cat_cols = list(set(df_cleaned.columns) - set(num_cols))"
   ]
  },
  {
   "cell_type": "code",
   "execution_count": 17,
   "metadata": {
    "tags": []
   },
   "outputs": [],
   "source": [
    "#Import standard scaler\n",
    "from sklearn.preprocessing import StandardScaler, OneHotEncoder\n",
    "\n",
    "#Instantiate oneHot encoder\n",
    "ohe = OneHotEncoder(sparse_output=False, drop='first')\n",
    "\n",
    "#Fit and apply oneHot encoder on dataframe\n",
    "features = ohe.fit_transform(df_cleaned[cat_cols])\n",
    "\n",
    "#Convert features into a dataframe\n",
    "features = pd.DataFrame(features, columns=ohe.get_feature_names_out())\n",
    "\n",
    "#Instantiate standard scaler\n",
    "scaler = StandardScaler()\n",
    "\n",
    "#Fit and apply scaling and save results to features\n",
    "features[num_cols] = scaler.fit_transform(df_cleaned[num_cols])"
   ]
  },
  {
   "cell_type": "code",
   "execution_count": 18,
   "metadata": {
    "tags": []
   },
   "outputs": [
    {
     "data": {
      "text/plain": [
       "['../models/scaler.joblib']"
      ]
     },
     "execution_count": 18,
     "metadata": {},
     "output_type": "execute_result"
    }
   ],
   "source": [
    "#Import dump from joblib\n",
    "from joblib import dump\n",
    "\n",
    "#Save one-hot encoder and scaler into model folder\n",
    "dump(ohe, '../models/ohe.joblib')\n",
    "dump(scaler, '../models/scaler.joblib')"
   ]
  },
  {
   "cell_type": "markdown",
   "metadata": {
    "tags": []
   },
   "source": [
    "# **Split Data**"
   ]
  },
  {
   "cell_type": "code",
   "execution_count": 19,
   "metadata": {
    "tags": []
   },
   "outputs": [],
   "source": [
    "#Import train, test, split\n",
    "from sklearn.model_selection import train_test_split\n",
    "\n",
    "#Split data\n",
    "X_data, X_test, y_data, y_test = train_test_split(features, target, test_size=0.2, random_state=8)\n",
    "X_train, X_val, y_train, y_val = train_test_split(X_data, y_data, test_size=0.2, random_state=8)"
   ]
  },
  {
   "cell_type": "code",
   "execution_count": 20,
   "metadata": {
    "tags": []
   },
   "outputs": [
    {
     "name": "stdout",
     "output_type": "stream",
     "text": [
      "(118, 429)\n",
      "(30, 429)\n",
      "(37, 429)\n"
     ]
    }
   ],
   "source": [
    "#Display data split dimensions for X\n",
    "print(X_train.shape)\n",
    "print(X_val.shape)\n",
    "print(X_test.shape)"
   ]
  },
  {
   "cell_type": "code",
   "execution_count": 21,
   "metadata": {
    "tags": []
   },
   "outputs": [
    {
     "name": "stdout",
     "output_type": "stream",
     "text": [
      "(118,)\n",
      "(30,)\n",
      "(37,)\n"
     ]
    }
   ],
   "source": [
    "#Display data split dimensions for y\n",
    "print(y_train.shape)\n",
    "print(y_val.shape)\n",
    "print(y_test.shape)"
   ]
  },
  {
   "cell_type": "code",
   "execution_count": 22,
   "metadata": {
    "tags": []
   },
   "outputs": [],
   "source": [
    "#Save sets\n",
    "X_train.to_csv('../data/processed/X_train.csv', index=False)\n",
    "X_val.to_csv('../data/processed/X_val.csv', index=False)\n",
    "X_test.to_csv('../data/processed/X_test.csv', index=False)\n",
    "y_train.to_csv('../data/processed/y_train.csv', index=False)\n",
    "y_val.to_csv('../data/processed/y_val.csv', index=False)\n",
    "y_test.to_csv('../data/processed/y_test.csv', index=False)"
   ]
  },
  {
   "cell_type": "markdown",
   "metadata": {},
   "source": [
    "# **Baseline**"
   ]
  },
  {
   "cell_type": "code",
   "execution_count": 23,
   "metadata": {
    "tags": []
   },
   "outputs": [],
   "source": [
    "#Calculate average of target variable\n",
    "pred_value = y_train.mean()"
   ]
  },
  {
   "cell_type": "code",
   "execution_count": 24,
   "metadata": {
    "tags": []
   },
   "outputs": [],
   "source": [
    "#Generate numpy array\n",
    "y_base = np.full((len(y_train), 1), pred_value)"
   ]
  },
  {
   "cell_type": "code",
   "execution_count": 30,
   "metadata": {
    "tags": []
   },
   "outputs": [
    {
     "name": "stdout",
     "output_type": "stream",
     "text": [
      "RMSE: 4.411347697591873\n",
      "MAE: 3.3704969836253955\n"
     ]
    }
   ],
   "source": [
    "#Compute RMSE and MAE scores of baseline model\n",
    "from sklearn.metrics import mean_squared_error as mse\n",
    "from sklearn.metrics import mean_absolute_error as mae\n",
    "\n",
    "rmse_score = mse(y_base, y_train, squared=False)\n",
    "mae_score = mae(y_base, y_train)\n",
    "\n",
    "print(f\"RMSE: {rmse_score}\")\n",
    "print(f\"MAE: {mae_score}\")"
   ]
  },
  {
   "cell_type": "markdown",
   "metadata": {},
   "source": [
    "RMSE score is slightly higher than MAE score which could imply that there are some outliers or large errors in the predictions affecting the overall RMSE. We will try to reduce both scores by training other models, feature selection and/or hyperparameter tuning."
   ]
  },
  {
   "cell_type": "code",
   "execution_count": null,
   "metadata": {},
   "outputs": [],
   "source": []
  }
 ],
 "metadata": {
  "colab": {
   "provenance": []
  },
  "kernelspec": {
   "display_name": "Python 3 (ipykernel)",
   "language": "python",
   "name": "python3"
  },
  "language_info": {
   "codemirror_mode": {
    "name": "ipython",
    "version": 3
   },
   "file_extension": ".py",
   "mimetype": "text/x-python",
   "name": "python",
   "nbconvert_exporter": "python",
   "pygments_lexer": "ipython3",
   "version": "3.9.13"
  }
 },
 "nbformat": 4,
 "nbformat_minor": 4
}
